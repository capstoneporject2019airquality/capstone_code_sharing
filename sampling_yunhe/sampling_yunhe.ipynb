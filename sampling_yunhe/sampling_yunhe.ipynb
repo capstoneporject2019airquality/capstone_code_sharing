{
 "cells": [
  {
   "cell_type": "markdown",
   "metadata": {},
   "source": [
    "# Sampling\n",
    "We will randomly select ~35 samples from original dataset. \n",
    "Using stratified sampling based on the test/test+repair attribute"
   ]
  },
  {
   "cell_type": "code",
   "execution_count": 1,
   "metadata": {},
   "outputs": [],
   "source": [
    "import pandas as pd"
   ]
  },
  {
   "cell_type": "code",
   "execution_count": 2,
   "metadata": {},
   "outputs": [],
   "source": [
    "stations = pd.read_csv(\"verified_avg_fee_by_station_jx.csv\")"
   ]
  },
  {
   "cell_type": "code",
   "execution_count": 3,
   "metadata": {},
   "outputs": [
    {
     "data": {
      "text/html": [
       "<div>\n",
       "<style scoped>\n",
       "    .dataframe tbody tr th:only-of-type {\n",
       "        vertical-align: middle;\n",
       "    }\n",
       "\n",
       "    .dataframe tbody tr th {\n",
       "        vertical-align: top;\n",
       "    }\n",
       "\n",
       "    .dataframe thead th {\n",
       "        text-align: right;\n",
       "    }\n",
       "</style>\n",
       "<table border=\"1\" class=\"dataframe\">\n",
       "  <thead>\n",
       "    <tr style=\"text-align: right;\">\n",
       "      <th></th>\n",
       "      <th>No.</th>\n",
       "      <th>Station Id</th>\n",
       "      <th>Avg. Test Fees</th>\n",
       "      <th>Station Name</th>\n",
       "      <th>Address</th>\n",
       "      <th>City</th>\n",
       "      <th>ZIP</th>\n",
       "      <th>Phone Number</th>\n",
       "      <th>Price</th>\n",
       "      <th>Tax</th>\n",
       "      <th>On the Spot Registration</th>\n",
       "      <th>Registration/Sticker Fee</th>\n",
       "      <th>Service Type</th>\n",
       "      <th>Detailed Information</th>\n",
       "    </tr>\n",
       "  </thead>\n",
       "  <tbody>\n",
       "    <tr>\n",
       "      <th>0</th>\n",
       "      <td>1.0</td>\n",
       "      <td>2.0</td>\n",
       "      <td>$25</td>\n",
       "      <td>KEN GARFF MERCEDES BENZ</td>\n",
       "      <td>575 SOUTH STATE</td>\n",
       "      <td>SALT LAKE CITY</td>\n",
       "      <td>84111.0</td>\n",
       "      <td>855-780-1053</td>\n",
       "      <td>25</td>\n",
       "      <td>0</td>\n",
       "      <td>Na</td>\n",
       "      <td>Na</td>\n",
       "      <td>TestAndRepair</td>\n",
       "      <td>Na</td>\n",
       "    </tr>\n",
       "    <tr>\n",
       "      <th>1</th>\n",
       "      <td>2.0</td>\n",
       "      <td>24.0</td>\n",
       "      <td>$39</td>\n",
       "      <td>OLYMPUS HILLS SINCLAIR</td>\n",
       "      <td>3905 SOUTH WASATCH BLVD</td>\n",
       "      <td>SALT LAKE CITY</td>\n",
       "      <td>84124.0</td>\n",
       "      <td>801- 272-2081</td>\n",
       "      <td>39</td>\n",
       "      <td>0</td>\n",
       "      <td>Na</td>\n",
       "      <td>Na</td>\n",
       "      <td>TestAndRepair</td>\n",
       "      <td>Na</td>\n",
       "    </tr>\n",
       "    <tr>\n",
       "      <th>2</th>\n",
       "      <td>3.0</td>\n",
       "      <td>28.0</td>\n",
       "      <td>$31</td>\n",
       "      <td>UNION SERVICE</td>\n",
       "      <td>997 EAST 7220 SOUTH</td>\n",
       "      <td>MIDVALE</td>\n",
       "      <td>84047.0</td>\n",
       "      <td>801-255-4122</td>\n",
       "      <td>Na</td>\n",
       "      <td>Na</td>\n",
       "      <td>Na</td>\n",
       "      <td>Na</td>\n",
       "      <td>Na</td>\n",
       "      <td>Na</td>\n",
       "    </tr>\n",
       "    <tr>\n",
       "      <th>3</th>\n",
       "      <td>4.0</td>\n",
       "      <td>38.0</td>\n",
       "      <td>$30</td>\n",
       "      <td>LARRY H. MILLER TOYOTA</td>\n",
       "      <td>5650 S STATE ST</td>\n",
       "      <td>MURRAY</td>\n",
       "      <td>84107.0</td>\n",
       "      <td>801-264-3850</td>\n",
       "      <td>30</td>\n",
       "      <td>0</td>\n",
       "      <td>Yes</td>\n",
       "      <td>5</td>\n",
       "      <td>TestAndRepair</td>\n",
       "      <td>Na</td>\n",
       "    </tr>\n",
       "    <tr>\n",
       "      <th>4</th>\n",
       "      <td>5.0</td>\n",
       "      <td>46.0</td>\n",
       "      <td>$35</td>\n",
       "      <td>QUALITY TIRE CO.</td>\n",
       "      <td>1335 WEST 2100 SOUTH</td>\n",
       "      <td>SALT LAKE CITY</td>\n",
       "      <td>84119.0</td>\n",
       "      <td>801-972-1944</td>\n",
       "      <td>Na</td>\n",
       "      <td>Na</td>\n",
       "      <td>Na</td>\n",
       "      <td>Na</td>\n",
       "      <td>Na</td>\n",
       "      <td>Na</td>\n",
       "    </tr>\n",
       "  </tbody>\n",
       "</table>\n",
       "</div>"
      ],
      "text/plain": [
       "   No.  Station Id Avg. Test Fees             Station Name  \\\n",
       "0  1.0         2.0            $25  KEN GARFF MERCEDES BENZ   \n",
       "1  2.0        24.0            $39   OLYMPUS HILLS SINCLAIR   \n",
       "2  3.0        28.0            $31            UNION SERVICE   \n",
       "3  4.0        38.0            $30   LARRY H. MILLER TOYOTA   \n",
       "4  5.0        46.0            $35         QUALITY TIRE CO.   \n",
       "\n",
       "                   Address            City      ZIP   Phone Number Price Tax  \\\n",
       "0          575 SOUTH STATE  SALT LAKE CITY  84111.0   855-780-1053    25   0   \n",
       "1  3905 SOUTH WASATCH BLVD  SALT LAKE CITY  84124.0  801- 272-2081    39   0   \n",
       "2      997 EAST 7220 SOUTH         MIDVALE  84047.0   801-255-4122    Na  Na   \n",
       "3          5650 S STATE ST          MURRAY  84107.0   801-264-3850    30   0   \n",
       "4     1335 WEST 2100 SOUTH  SALT LAKE CITY  84119.0   801-972-1944    Na  Na   \n",
       "\n",
       "  On the Spot Registration Registration/Sticker Fee   Service Type  \\\n",
       "0                       Na                       Na  TestAndRepair   \n",
       "1                       Na                       Na  TestAndRepair   \n",
       "2                       Na                       Na             Na   \n",
       "3                      Yes                        5  TestAndRepair   \n",
       "4                       Na                       Na             Na   \n",
       "\n",
       "  Detailed Information  \n",
       "0                   Na  \n",
       "1                   Na  \n",
       "2                   Na  \n",
       "3                   Na  \n",
       "4                   Na  "
      ]
     },
     "execution_count": 3,
     "metadata": {},
     "output_type": "execute_result"
    }
   ],
   "source": [
    "stations.head()"
   ]
  },
  {
   "cell_type": "code",
   "execution_count": 4,
   "metadata": {},
   "outputs": [],
   "source": [
    "stations['Service Type'] = stations['Service Type'].str.strip()"
   ]
  },
  {
   "cell_type": "code",
   "execution_count": 5,
   "metadata": {},
   "outputs": [
    {
     "data": {
      "text/html": [
       "<div>\n",
       "<style scoped>\n",
       "    .dataframe tbody tr th:only-of-type {\n",
       "        vertical-align: middle;\n",
       "    }\n",
       "\n",
       "    .dataframe tbody tr th {\n",
       "        vertical-align: top;\n",
       "    }\n",
       "\n",
       "    .dataframe thead th {\n",
       "        text-align: right;\n",
       "    }\n",
       "</style>\n",
       "<table border=\"1\" class=\"dataframe\">\n",
       "  <thead>\n",
       "    <tr style=\"text-align: right;\">\n",
       "      <th></th>\n",
       "      <th>Station Id</th>\n",
       "    </tr>\n",
       "    <tr>\n",
       "      <th>Service Type</th>\n",
       "      <th></th>\n",
       "    </tr>\n",
       "  </thead>\n",
       "  <tbody>\n",
       "    <tr>\n",
       "      <th>Na</th>\n",
       "      <td>55</td>\n",
       "    </tr>\n",
       "    <tr>\n",
       "      <th>Test+light repair</th>\n",
       "      <td>1</td>\n",
       "    </tr>\n",
       "    <tr>\n",
       "      <th>TestAndRepair</th>\n",
       "      <td>337</td>\n",
       "    </tr>\n",
       "    <tr>\n",
       "      <th>TestAndRepair for ford</th>\n",
       "      <td>1</td>\n",
       "    </tr>\n",
       "    <tr>\n",
       "      <th>TestOnly</th>\n",
       "      <td>30</td>\n",
       "    </tr>\n",
       "  </tbody>\n",
       "</table>\n",
       "</div>"
      ],
      "text/plain": [
       "                        Station Id\n",
       "Service Type                      \n",
       "Na                              55\n",
       "Test+light repair                1\n",
       "TestAndRepair                  337\n",
       "TestAndRepair for ford           1\n",
       "TestOnly                        30"
      ]
     },
     "execution_count": 5,
     "metadata": {},
     "output_type": "execute_result"
    }
   ],
   "source": [
    "stations[['Station Id', 'Service Type']].groupby(['Service Type']).count()"
   ]
  },
  {
   "cell_type": "code",
   "execution_count": 6,
   "metadata": {},
   "outputs": [
    {
     "name": "stderr",
     "output_type": "stream",
     "text": [
      "/Users/xiaoguihua/anaconda3/envs/new_env/lib/python3.6/site-packages/ipykernel_launcher.py:1: DeprecationWarning: \n",
      ".ix is deprecated. Please use\n",
      ".loc for label based indexing or\n",
      ".iloc for positional indexing\n",
      "\n",
      "See the documentation here:\n",
      "http://pandas.pydata.org/pandas-docs/stable/indexing.html#ix-indexer-is-deprecated\n",
      "  \"\"\"Entry point for launching an IPython kernel.\n",
      "/Users/xiaoguihua/anaconda3/envs/new_env/lib/python3.6/site-packages/ipykernel_launcher.py:2: DeprecationWarning: \n",
      ".ix is deprecated. Please use\n",
      ".loc for label based indexing or\n",
      ".iloc for positional indexing\n",
      "\n",
      "See the documentation here:\n",
      "http://pandas.pydata.org/pandas-docs/stable/indexing.html#ix-indexer-is-deprecated\n",
      "  \n"
     ]
    }
   ],
   "source": [
    "stations.ix[stations['Service Type']=='Test+light repair', 'Service Type']='TestAndRepair'\n",
    "stations.ix[stations['Service Type']=='TestAndRepair for ford', 'Service Type']='TestAndRepair'"
   ]
  },
  {
   "cell_type": "code",
   "execution_count": 7,
   "metadata": {},
   "outputs": [
    {
     "data": {
      "text/html": [
       "<div>\n",
       "<style scoped>\n",
       "    .dataframe tbody tr th:only-of-type {\n",
       "        vertical-align: middle;\n",
       "    }\n",
       "\n",
       "    .dataframe tbody tr th {\n",
       "        vertical-align: top;\n",
       "    }\n",
       "\n",
       "    .dataframe thead th {\n",
       "        text-align: right;\n",
       "    }\n",
       "</style>\n",
       "<table border=\"1\" class=\"dataframe\">\n",
       "  <thead>\n",
       "    <tr style=\"text-align: right;\">\n",
       "      <th></th>\n",
       "      <th>Station Id</th>\n",
       "    </tr>\n",
       "    <tr>\n",
       "      <th>Service Type</th>\n",
       "      <th></th>\n",
       "    </tr>\n",
       "  </thead>\n",
       "  <tbody>\n",
       "    <tr>\n",
       "      <th>Na</th>\n",
       "      <td>55</td>\n",
       "    </tr>\n",
       "    <tr>\n",
       "      <th>TestAndRepair</th>\n",
       "      <td>339</td>\n",
       "    </tr>\n",
       "    <tr>\n",
       "      <th>TestOnly</th>\n",
       "      <td>30</td>\n",
       "    </tr>\n",
       "  </tbody>\n",
       "</table>\n",
       "</div>"
      ],
      "text/plain": [
       "               Station Id\n",
       "Service Type             \n",
       "Na                     55\n",
       "TestAndRepair         339\n",
       "TestOnly               30"
      ]
     },
     "execution_count": 7,
     "metadata": {},
     "output_type": "execute_result"
    }
   ],
   "source": [
    "stations[['Station Id', 'Service Type']].groupby(['Service Type']).count()"
   ]
  },
  {
   "cell_type": "markdown",
   "metadata": {},
   "source": [
    "## We will select 3 from 'test only' and 32 from 'test and repair'"
   ]
  },
  {
   "cell_type": "code",
   "execution_count": 8,
   "metadata": {},
   "outputs": [],
   "source": [
    "test_only = stations.loc[stations['Service Type'] == 'TestOnly'].reset_index(drop=True)\n",
    "test_and_repair = stations.loc[stations['Service Type'] == 'TestAndRepair'].reset_index(drop=True)"
   ]
  },
  {
   "cell_type": "code",
   "execution_count": 9,
   "metadata": {},
   "outputs": [
    {
     "data": {
      "text/plain": [
       "(30, 14)"
      ]
     },
     "execution_count": 9,
     "metadata": {},
     "output_type": "execute_result"
    }
   ],
   "source": [
    "test_only.shape"
   ]
  },
  {
   "cell_type": "code",
   "execution_count": 10,
   "metadata": {},
   "outputs": [
    {
     "data": {
      "text/plain": [
       "(339, 14)"
      ]
     },
     "execution_count": 10,
     "metadata": {},
     "output_type": "execute_result"
    }
   ],
   "source": [
    "test_and_repair.shape"
   ]
  },
  {
   "cell_type": "code",
   "execution_count": 11,
   "metadata": {},
   "outputs": [],
   "source": [
    "to_s = test_only.sample(n=3, random_state = 2019)\n",
    "tnr_s = test_and_repair.sample(n=32, random_state=2019)"
   ]
  },
  {
   "cell_type": "code",
   "execution_count": 12,
   "metadata": {},
   "outputs": [],
   "source": [
    "sample = pd.concat([to_s, tnr_s], ignore_index=True)"
   ]
  },
  {
   "cell_type": "code",
   "execution_count": 13,
   "metadata": {},
   "outputs": [
    {
     "data": {
      "text/plain": [
       "(35, 14)"
      ]
     },
     "execution_count": 13,
     "metadata": {},
     "output_type": "execute_result"
    }
   ],
   "source": [
    "sample.shape"
   ]
  },
  {
   "cell_type": "code",
   "execution_count": 14,
   "metadata": {},
   "outputs": [],
   "source": [
    "sample.to_csv('sample.csv')"
   ]
  },
  {
   "cell_type": "markdown",
   "metadata": {},
   "source": [
    "## For supplimentary sample: we need 15 more: 1 from test only and 14 from test and repair"
   ]
  },
  {
   "cell_type": "code",
   "execution_count": 15,
   "metadata": {},
   "outputs": [
    {
     "data": {
      "text/html": [
       "<div>\n",
       "<style scoped>\n",
       "    .dataframe tbody tr th:only-of-type {\n",
       "        vertical-align: middle;\n",
       "    }\n",
       "\n",
       "    .dataframe tbody tr th {\n",
       "        vertical-align: top;\n",
       "    }\n",
       "\n",
       "    .dataframe thead th {\n",
       "        text-align: right;\n",
       "    }\n",
       "</style>\n",
       "<table border=\"1\" class=\"dataframe\">\n",
       "  <thead>\n",
       "    <tr style=\"text-align: right;\">\n",
       "      <th></th>\n",
       "      <th>No.</th>\n",
       "      <th>Station Id</th>\n",
       "      <th>Avg. Test Fees</th>\n",
       "      <th>Station Name</th>\n",
       "      <th>Address</th>\n",
       "      <th>City</th>\n",
       "      <th>ZIP</th>\n",
       "      <th>Phone Number</th>\n",
       "      <th>Price</th>\n",
       "      <th>Tax</th>\n",
       "      <th>On the Spot Registration</th>\n",
       "      <th>Registration/Sticker Fee</th>\n",
       "      <th>Service Type</th>\n",
       "      <th>Detailed Information</th>\n",
       "    </tr>\n",
       "  </thead>\n",
       "  <tbody>\n",
       "    <tr>\n",
       "      <th>0</th>\n",
       "      <td>1.0</td>\n",
       "      <td>2.0</td>\n",
       "      <td>$25</td>\n",
       "      <td>KEN GARFF MERCEDES BENZ</td>\n",
       "      <td>575 SOUTH STATE</td>\n",
       "      <td>SALT LAKE CITY</td>\n",
       "      <td>84111.0</td>\n",
       "      <td>855-780-1053</td>\n",
       "      <td>25</td>\n",
       "      <td>0</td>\n",
       "      <td>Na</td>\n",
       "      <td>Na</td>\n",
       "      <td>TestAndRepair</td>\n",
       "      <td>Na</td>\n",
       "    </tr>\n",
       "    <tr>\n",
       "      <th>1</th>\n",
       "      <td>2.0</td>\n",
       "      <td>24.0</td>\n",
       "      <td>$39</td>\n",
       "      <td>OLYMPUS HILLS SINCLAIR</td>\n",
       "      <td>3905 SOUTH WASATCH BLVD</td>\n",
       "      <td>SALT LAKE CITY</td>\n",
       "      <td>84124.0</td>\n",
       "      <td>801- 272-2081</td>\n",
       "      <td>39</td>\n",
       "      <td>0</td>\n",
       "      <td>Na</td>\n",
       "      <td>Na</td>\n",
       "      <td>TestAndRepair</td>\n",
       "      <td>Na</td>\n",
       "    </tr>\n",
       "    <tr>\n",
       "      <th>2</th>\n",
       "      <td>3.0</td>\n",
       "      <td>28.0</td>\n",
       "      <td>$31</td>\n",
       "      <td>UNION SERVICE</td>\n",
       "      <td>997 EAST 7220 SOUTH</td>\n",
       "      <td>MIDVALE</td>\n",
       "      <td>84047.0</td>\n",
       "      <td>801-255-4122</td>\n",
       "      <td>Na</td>\n",
       "      <td>Na</td>\n",
       "      <td>Na</td>\n",
       "      <td>Na</td>\n",
       "      <td>Na</td>\n",
       "      <td>Na</td>\n",
       "    </tr>\n",
       "    <tr>\n",
       "      <th>3</th>\n",
       "      <td>4.0</td>\n",
       "      <td>38.0</td>\n",
       "      <td>$30</td>\n",
       "      <td>LARRY H. MILLER TOYOTA</td>\n",
       "      <td>5650 S STATE ST</td>\n",
       "      <td>MURRAY</td>\n",
       "      <td>84107.0</td>\n",
       "      <td>801-264-3850</td>\n",
       "      <td>30</td>\n",
       "      <td>0</td>\n",
       "      <td>Yes</td>\n",
       "      <td>5</td>\n",
       "      <td>TestAndRepair</td>\n",
       "      <td>Na</td>\n",
       "    </tr>\n",
       "    <tr>\n",
       "      <th>4</th>\n",
       "      <td>5.0</td>\n",
       "      <td>46.0</td>\n",
       "      <td>$35</td>\n",
       "      <td>QUALITY TIRE CO.</td>\n",
       "      <td>1335 WEST 2100 SOUTH</td>\n",
       "      <td>SALT LAKE CITY</td>\n",
       "      <td>84119.0</td>\n",
       "      <td>801-972-1944</td>\n",
       "      <td>Na</td>\n",
       "      <td>Na</td>\n",
       "      <td>Na</td>\n",
       "      <td>Na</td>\n",
       "      <td>Na</td>\n",
       "      <td>Na</td>\n",
       "    </tr>\n",
       "  </tbody>\n",
       "</table>\n",
       "</div>"
      ],
      "text/plain": [
       "   No.  Station Id Avg. Test Fees             Station Name  \\\n",
       "0  1.0         2.0            $25  KEN GARFF MERCEDES BENZ   \n",
       "1  2.0        24.0            $39   OLYMPUS HILLS SINCLAIR   \n",
       "2  3.0        28.0            $31            UNION SERVICE   \n",
       "3  4.0        38.0            $30   LARRY H. MILLER TOYOTA   \n",
       "4  5.0        46.0            $35         QUALITY TIRE CO.   \n",
       "\n",
       "                   Address            City      ZIP   Phone Number Price Tax  \\\n",
       "0          575 SOUTH STATE  SALT LAKE CITY  84111.0   855-780-1053    25   0   \n",
       "1  3905 SOUTH WASATCH BLVD  SALT LAKE CITY  84124.0  801- 272-2081    39   0   \n",
       "2      997 EAST 7220 SOUTH         MIDVALE  84047.0   801-255-4122    Na  Na   \n",
       "3          5650 S STATE ST          MURRAY  84107.0   801-264-3850    30   0   \n",
       "4     1335 WEST 2100 SOUTH  SALT LAKE CITY  84119.0   801-972-1944    Na  Na   \n",
       "\n",
       "  On the Spot Registration Registration/Sticker Fee   Service Type  \\\n",
       "0                       Na                       Na  TestAndRepair   \n",
       "1                       Na                       Na  TestAndRepair   \n",
       "2                       Na                       Na             Na   \n",
       "3                      Yes                        5  TestAndRepair   \n",
       "4                       Na                       Na             Na   \n",
       "\n",
       "  Detailed Information  \n",
       "0                   Na  \n",
       "1                   Na  \n",
       "2                   Na  \n",
       "3                   Na  \n",
       "4                   Na  "
      ]
     },
     "execution_count": 15,
     "metadata": {},
     "output_type": "execute_result"
    }
   ],
   "source": [
    "stations.head()"
   ]
  },
  {
   "cell_type": "code",
   "execution_count": 16,
   "metadata": {},
   "outputs": [],
   "source": [
    "index_ls = sample['No.']"
   ]
  },
  {
   "cell_type": "code",
   "execution_count": 17,
   "metadata": {},
   "outputs": [],
   "source": [
    "#remove previous \n",
    "stations2 = stations[~stations['No.'].isin(index_ls)]"
   ]
  },
  {
   "cell_type": "code",
   "execution_count": 18,
   "metadata": {},
   "outputs": [
    {
     "data": {
      "text/plain": [
       "(401, 14)"
      ]
     },
     "execution_count": 18,
     "metadata": {},
     "output_type": "execute_result"
    }
   ],
   "source": [
    "stations2.shape"
   ]
  },
  {
   "cell_type": "code",
   "execution_count": 19,
   "metadata": {},
   "outputs": [],
   "source": [
    "test_only2 = stations2.loc[stations2['Service Type'] == 'TestOnly'].reset_index(drop=True)\n",
    "test_and_repair2 = stations2.loc[stations2['Service Type'] == 'TestAndRepair'].reset_index(drop=True)"
   ]
  },
  {
   "cell_type": "code",
   "execution_count": 20,
   "metadata": {},
   "outputs": [],
   "source": [
    "to_s2 = test_only2.sample(n=1, random_state = 2019)\n",
    "tnr_s2 = test_and_repair2.sample(n=14, random_state=2019)"
   ]
  },
  {
   "cell_type": "code",
   "execution_count": 21,
   "metadata": {},
   "outputs": [],
   "source": [
    "sample2 = pd.concat([to_s2, tnr_s2], ignore_index=True)\n",
    "sample2.to_csv('sample2.csv')"
   ]
  },
  {
   "cell_type": "code",
   "execution_count": null,
   "metadata": {},
   "outputs": [],
   "source": []
  }
 ],
 "metadata": {
  "kernelspec": {
   "display_name": "new_env",
   "language": "python",
   "name": "new_env"
  },
  "language_info": {
   "codemirror_mode": {
    "name": "ipython",
    "version": 3
   },
   "file_extension": ".py",
   "mimetype": "text/x-python",
   "name": "python",
   "nbconvert_exporter": "python",
   "pygments_lexer": "ipython3",
   "version": "3.6.8"
  }
 },
 "nbformat": 4,
 "nbformat_minor": 2
}
